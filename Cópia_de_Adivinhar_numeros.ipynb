{
  "nbformat": 4,
  "nbformat_minor": 0,
  "metadata": {
    "colab": {
      "provenance": [],
      "include_colab_link": true
    },
    "kernelspec": {
      "name": "python3",
      "display_name": "Python 3"
    },
    "language_info": {
      "name": "python"
    }
  },
  "cells": [
    {
      "cell_type": "markdown",
      "metadata": {
        "id": "view-in-github",
        "colab_type": "text"
      },
      "source": [
        "<a href=\"https://colab.research.google.com/github/vinicius455/codigos/blob/main/C%C3%B3pia_de_Adivinhar_numeros.ipynb\" target=\"_parent\"><img src=\"https://colab.research.google.com/assets/colab-badge.svg\" alt=\"Open In Colab\"/></a>"
      ]
    },
    {
      "cell_type": "code",
      "source": [
        "import random\n",
        "\n",
        "minimo = 1\n",
        "maximo = 100\n",
        "\n",
        "numero_secreto = random.randint (minimo, maximo)\n",
        "\n",
        "tentativas = 0\n",
        "\n",
        "while True:\n",
        "\n",
        "  tentativas += 1\n",
        "\n",
        "  palpite = int(input(f\"Digite um número entre {minimo} e {maximo}:\"))\n",
        "\n",
        "  if palpite == numero_secreto:\n",
        "    print (f\"Parabéns! Você advinhou o número secreto em {tentativas} tentativas!\")\n",
        "    break\n",
        "  elif palpite > numero_secreto:\n",
        "    print (f\"O número secreto é MENOR que (palpite).\")\n",
        "  else:\n",
        "    print (f\"O úmero secreto é MAIOR que (palpite).\")\n",
        "\n",
        "\n"
      ],
      "metadata": {
        "id": "_XeZFecGZLHf"
      },
      "execution_count": null,
      "outputs": []
    }
  ]
}